{
 "cells": [
  {
   "cell_type": "code",
   "execution_count": 55,
   "metadata": {},
   "outputs": [],
   "source": [
    "canAi = open('canai_codesource.txt', 'r').read()\n"
   ]
  },
  {
   "cell_type": "code",
   "execution_count": 56,
   "metadata": {
    "collapsed": true
   },
   "outputs": [],
   "source": [
    "from bs4 import BeautifulSoup\n",
    "soup = BeautifulSoup(canAi, 'html.parser')"
   ]
  },
  {
   "cell_type": "code",
   "execution_count": 57,
   "metadata": {
    "collapsed": true
   },
   "outputs": [],
   "source": [
    "sep_chunk = canAi.split('<div class=\"post-preview\">')[1:]"
   ]
  },
  {
   "cell_type": "code",
   "execution_count": 58,
   "metadata": {
    "scrolled": false
   },
   "outputs": [],
   "source": [
    "import pandas as pd\n",
    "\n",
    "df = pd.DataFrame(index = range(0,len(sep_chunk)), columns = ['Name', 'Info', 'Website', 'Year of foundation'])\n",
    "\n",
    "for x in range(len(sep_chunk)):\n",
    "    try: \n",
    "        df['Name'][x] = sep_chunk[x].split('<h3 class=\"main-header\">')[1].strip().split('\\n')[0]\n",
    "        if df['Name'][x] == '<div>':\n",
    "            df['Name'][x] = sep_chunk[x].split('<h3 class=\"main-header\">')[2].strip().split('\\n')[0]\n",
    "        if '&amp;' in df['Name'][x]:\n",
    "            df['Name'][x] = df['Name'][x].replace('&amp;','')\n",
    "    except:\n",
    "        pass\n",
    "    try:\n",
    "        df['Info'][x] = sep_chunk[x].split('<div class=\"post-preview__body\">')[1].strip().split('\\n')[0]\n",
    "        if df['Info'][x].startswith('<p>'):\n",
    "            df['Info'][x] = df['Info'][x][3:]\n",
    "        if df['Info'][x] == '</div>':\n",
    "            df['Info'][x] = None\n",
    "            \n",
    "    except:\n",
    "        pass\n",
    "    try:\n",
    "        df['Website'][x] = sep_chunk[x].split('class=\"post-preview__website\">')[1].strip().split('\\n')[0]\n",
    "    except:\n",
    "        pass\n",
    "    try:\n",
    "        df['Year of foundation'][x] = sep_chunk[x].split('<span class=\"post-preview__funds\">')[1].strip().split('\\n')[0]\n",
    "    except:\n",
    "        pass"
   ]
  },
  {
   "cell_type": "code",
   "execution_count": 59,
   "metadata": {
    "collapsed": true
   },
   "outputs": [],
   "source": [
    "df = df.iloc[12:].reset_index(drop= True)"
   ]
  },
  {
   "cell_type": "code",
   "execution_count": 60,
   "metadata": {},
   "outputs": [],
   "source": [
    "df = df.fillna(' ')\n",
    "df.to_excel('canAi.xls')"
   ]
  },
  {
   "cell_type": "code",
   "execution_count": 63,
   "metadata": {},
   "outputs": [],
   "source": [
    "#import numpy as np\n",
    "\n",
    "#str_ = 'let data = ['\n",
    "\n",
    "\n",
    "#for x in range(len(df)):\n",
    "#    str_ += \"\\n\\t{cat: 'library', \" \n",
    "#    str_ += \"\\n\\tdesc: `\\n\\n{}\\n\\n`, \".format(str(df['Info'][x]) + '\\n\\n' + str(df['Website'][x]))\n",
    "#    str_ += \"\\n\\ticon: 'pic.svg', \"\n",
    "#    str_ += \"\\n\\tname: '{}', \".format(df['Name'][x])\n",
    "#    str_ += \"\\n\\tvalue: {}\".format(np.random.randint(0,50))\n",
    "#    if len(df)-x == 1:\n",
    "#        str_ += '}'\n",
    "#    else:\n",
    "#        str_ += '}, '\n",
    "    \n",
    "#str_ += '];'"
   ]
  },
  {
   "cell_type": "code",
   "execution_count": 62,
   "metadata": {},
   "outputs": [],
   "source": [
    "#print(str_)"
   ]
  },
  {
   "cell_type": "code",
   "execution_count": 52,
   "metadata": {
    "collapsed": true
   },
   "outputs": [],
   "source": [
    "#f = open('can_ai_2.txt', 'w')\n",
    "\n",
    "#f.write('{}'.format(str_))\n",
    "#f.close()"
   ]
  }
 ],
 "metadata": {
  "kernelspec": {
   "display_name": "Python 3",
   "language": "python",
   "name": "python3"
  },
  "language_info": {
   "codemirror_mode": {
    "name": "ipython",
    "version": 3
   },
   "file_extension": ".py",
   "mimetype": "text/x-python",
   "name": "python",
   "nbconvert_exporter": "python",
   "pygments_lexer": "ipython3",
   "version": "3.6.3"
  }
 },
 "nbformat": 4,
 "nbformat_minor": 2
}
